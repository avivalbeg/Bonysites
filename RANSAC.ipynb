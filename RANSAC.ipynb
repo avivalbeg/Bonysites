{
 "cells": [
  {
   "cell_type": "code",
   "execution_count": 27,
   "metadata": {},
   "outputs": [],
   "source": [
    "import numpy as np \n",
    "import matplotlib.pyplot as plt\n",
    "from scipy.optimize import curve_fit \n",
    "%matplotlib inline"
   ]
  },
  {
   "cell_type": "code",
   "execution_count": 56,
   "metadata": {},
   "outputs": [
    {
     "data": {
      "image/png": "[encoded data removed]",
      "text/plain": [
       "<matplotlib.figure.Figure at 0x17341dd87f0>"
      ]
     },
     "metadata": {},
     "output_type": "display_data"
    }
   ],
   "source": [
    "x = np.linspace(0,10,20)\n",
    "noise = 40*np.random.rand(70)\n",
    "y1 = x*4\n",
    "x = np.append(x,np.linspace(0,10,70))\n",
    "y1 = np.append(y1,noise)\n",
    "plt.scatter(x,y1)\n",
    "plt.show()"
   ]
  },
  {
   "cell_type": "code",
   "execution_count": 5,
   "metadata": {},
   "outputs": [],
   "source": [
    "data = list(zip(x,y1))\n",
    "datalabels = np.arange(len(data))\n",
    "choices = np.random.choice(datalabels,30)\n",
    "vals = []\n",
    "for elem in choices:\n",
    "    vals.append(data[elem])"
   ]
  },
  {
   "cell_type": "code",
   "execution_count": 172,
   "metadata": {},
   "outputs": [
    {
     "name": "stdout",
     "output_type": "stream",
     "text": [
      "2\n",
      "3\n",
      "5\n"
     ]
    }
   ],
   "source": [
    "A = [1,2,3,4,5]\n",
    "B = [1,4]\n",
    "for a in A:\n",
    "    if a not in B:\n",
    "        print(a)"
   ]
  },
  {
   "cell_type": "code",
   "execution_count": 60,
   "metadata": {},
   "outputs": [
    {
     "data": {
      "text/plain": [
       "array([  0.        ,   0.52631579,   1.05263158,   1.57894737,\n",
       "         2.10526316,   2.63157895,   3.15789474,   3.68421053,\n",
       "         4.21052632,   4.73684211,   5.26315789,   5.78947368,\n",
       "         6.31578947,   6.84210526,   7.36842105,   7.89473684,\n",
       "         8.42105263,   8.94736842,   9.47368421,  10.        ,\n",
       "         0.        ,   0.14492754,   0.28985507,   0.43478261,\n",
       "         0.57971014,   0.72463768,   0.86956522,   1.01449275,\n",
       "         1.15942029,   1.30434783,   1.44927536,   1.5942029 ,\n",
       "         1.73913043,   1.88405797,   2.02898551,   2.17391304,\n",
       "         2.31884058,   2.46376812,   2.60869565,   2.75362319,\n",
       "         2.89855072,   3.04347826,   3.1884058 ,   3.33333333,\n",
       "         3.47826087,   3.62318841,   3.76811594,   3.91304348,\n",
       "         4.05797101,   4.20289855,   4.34782609,   4.49275362,\n",
       "         4.63768116,   4.7826087 ,   4.92753623,   5.07246377,\n",
       "         5.2173913 ,   5.36231884,   5.50724638,   5.65217391,\n",
       "         5.79710145,   5.94202899,   6.08695652,   6.23188406,\n",
       "         6.37681159,   6.52173913,   6.66666667,   6.8115942 ,\n",
       "         6.95652174,   7.10144928,   7.24637681,   7.39130435,\n",
       "         7.53623188,   7.68115942,   7.82608696,   7.97101449,\n",
       "         8.11594203,   8.26086957,   8.4057971 ,   8.55072464,\n",
       "         8.69565217,   8.84057971,   8.98550725,   9.13043478,\n",
       "         9.27536232,   9.42028986,   9.56521739,   9.71014493,\n",
       "         9.85507246,  10.        ])"
      ]
     },
     "execution_count": 60,
     "metadata": {},
     "output_type": "execute_result"
    }
   ],
   "source": [
    "datalabels = np.arange(10)\n",
    "labels = np.random.choice(datalabels,2)\n",
    "data = [x,y1]\n",
    "data[0]"
   ]
  },
  {
   "cell_type": "code",
   "execution_count": 189,
   "metadata": {},
   "outputs": [],
   "source": [
    "def RANSAC(data,model,n,k,t,d):\n",
    "    \n",
    "    x = data[0]\n",
    "    y = data[1]\n",
    "    size_Of_Data = len(x)\n",
    "    \n",
    "    iterations = 0 \n",
    "    bestfit = None \n",
    "    besterr = 10000000\n",
    "    datalabels = np.arange(size_Of_Data)\n",
    "    while iterations < k:\n",
    "        labels =[]\n",
    "        labels = np.random.choice(datalabels,n)\n",
    "        maybe_InliersX = []\n",
    "        maybe_InliersY = []\n",
    "        init_vals=[0,0]\n",
    "        for label in labels:\n",
    "            maybe_InliersX.append(x[label])\n",
    "            maybe_InliersY.append(y[label])\n",
    "        maybe_Model,_= curve_fit(model,maybe_InliersX,maybe_InliersY,p0=init_vals)\n",
    "        also_InliersX = []\n",
    "        also_InliersY = []\n",
    "        for i,xp in enumerate(x):\n",
    "            if xp not in maybe_InliersX:\n",
    "                yp = y[i]\n",
    "                if abs(yp-model(xp,*maybe_Model))<t:\n",
    "                    also_InliersX.append(xp)\n",
    "                    also_InliersY.append(yp)\n",
    "        if len(also_InliersX)>d:\n",
    "            for i in range(len(maybe_InliersX)):\n",
    "                also_InliersX.append(maybe_InliersX[i])\n",
    "                also_InliersY.append(maybe_InliersY[i])\n",
    "                \n",
    "            bettermodel,_= curve_fit(model,also_InliersX,also_InliersY,p0=init_vals)\n",
    "            this_Error = err(also_InliersX,also_InliersY,bettermodel,model=model)\n",
    "            if this_Error<besterr:\n",
    "                bestfit =bettermodel\n",
    "                besterr=this_Error\n",
    "                print(besterr)\n",
    "        iterations+=1\n",
    "    return bestfit\n",
    "def linear_model(x,m,b):\n",
    "    return(m*x+b)\n",
    "\n",
    "def quadratic_model(x,a,b,c,d,e,f):\n",
    "    return(a+ b*x+c*x+d*x**2+e*x**3+f*x**4 )\n",
    "\n",
    "def err(x,y,params,model= linear_model):\n",
    "    tot =0\n",
    "    for i in range(len(x)):\n",
    "        tot+= (y[i]-linear_model(x[i],*params))**2\n",
    "    return tot\n",
    "    \n",
    "\n",
    "    \n",
    "\n"
   ]
  },
  {
   "cell_type": "code",
   "execution_count": 205,
   "metadata": {},
   "outputs": [
    {
     "name": "stdout",
     "output_type": "stream",
     "text": [
      "7.78843125346\n"
     ]
    },
    {
     "name": "stderr",
     "output_type": "stream",
     "text": [
      "c:\\users\\qcandles\\appdata\\local\\programs\\python\\python35\\lib\\site-packages\\scipy\\optimize\\minpack.py:785: OptimizeWarning: Covariance of the parameters could not be estimated\n",
      "  category=OptimizeWarning)\n"
     ]
    }
   ],
   "source": [
    "params = RANSAC([x,y1],linear_model,2,20,2,10)"
   ]
  },
  {
   "cell_type": "code",
   "execution_count": 185,
   "metadata": {},
   "outputs": [
    {
     "data": {
      "text/plain": [
       "array([ 4.02733835, -0.08689318])"
      ]
     },
     "execution_count": 185,
     "metadata": {},
     "output_type": "execute_result"
    }
   ],
   "source": [
    "params"
   ]
  },
  {
   "cell_type": "code",
   "execution_count": 206,
   "metadata": {},
   "outputs": [
    {
     "data": {
      "image/png": "[encoded data removed]",
      "text/plain": [
       "<matplotlib.figure.Figure at 0x1734be0a5f8>"
      ]
     },
     "metadata": {},
     "output_type": "display_data"
    }
   ],
   "source": [
    "plt.scatter(x,y1)\n",
    "y2 = []\n",
    "y3 =[]\n",
    "for elem in x:\n",
    "    y2.append(linear_model(elem,*params))\n",
    "plt.plot(x,y2)\n",
    "for \n",
    "plt.show()"
   ]
  },
  {
   "cell_type": "code",
   "execution_count": null,
   "metadata": {},
   "outputs": [],
   "source": []
  },
  {
   "cell_type": "code",
   "execution_count": 97,
   "metadata": {},
   "outputs": [
    {
     "data": {
      "image/png": "[encoded data removed]",
      "text/plain": [
       "<matplotlib.figure.Figure at 0x168d0edacc0>"
      ]
     },
     "metadata": {},
     "output_type": "display_data"
    },
    {
     "name": "stdout",
     "output_type": "stream",
     "text": [
      "[  2.99999732e+00   3.83808634e+01  -1.11907579e+01   1.67175184e-06\n",
      "  -2.45462579e+00  -1.19017222e-07]\n"
     ]
    }
   ],
   "source": [
    "from scipy.optimize import curve_fit \n",
    "x = np.linspace(-4,4,101)\n",
    "y = 40*np.sin(x)+3\n",
    "quadratic_init_vals = [0,0,0,0,0,0]\n",
    "best_vals,covar = curve_fit(quadratic_model,x,y,p0=quadratic_init_vals)\n",
    "best_vals\n",
    "y2 = [] \n",
    "for elem in x:\n",
    "    y2.append(quadratic_model(elem,best_vals[0],best_vals[1],best_vals[2],best_vals[3],best_vals[4],best_vals[5]))\n",
    "plt.plot(x,y)\n",
    "plt.plot(x,y2)\n",
    "plt.show()\n",
    "print(best_vals)"
   ]
  },
  {
   "cell_type": "code",
   "execution_count": 45,
   "metadata": {},
   "outputs": [],
   "source": [
    "?np.random.choice"
   ]
  },
  {
   "cell_type": "code",
   "execution_count": 89,
   "metadata": {},
   "outputs": [
    {
     "data": {
      "text/plain": [
       "array([[  7.65404371e-04,  -5.85354170e-04,  -1.94693871e-02],\n",
       "       [ -5.85354170e-04,   2.21544209e-01,   1.48895134e-02],\n",
       "       [ -1.94693871e-02,   1.48895134e-02,   8.01252007e+00]])"
      ]
     },
     "execution_count": 89,
     "metadata": {},
     "output_type": "execute_result"
    }
   ],
   "source": [
    "covar"
   ]
  },
  {
   "cell_type": "code",
   "execution_count": null,
   "metadata": {},
   "outputs": [],
   "source": []
  }
 ],
 "metadata": {
  "kernelspec": {
   "display_name": "Python 3",
   "language": "python",
   "name": "python3"
  },
  "language_info": {
   "codemirror_mode": {
    "name": "ipython",
    "version": 3
   },
   "file_extension": ".py",
   "mimetype": "text/x-python",
   "name": "python",
   "nbconvert_exporter": "python",
   "pygments_lexer": "ipython3",
   "version": "3.5.2"
  }
 },
 "nbformat": 4,
 "nbformat_minor": 2
}
